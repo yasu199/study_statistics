{
 "cells": [
  {
   "cell_type": "markdown",
   "source": [
    "# GLMのモデル選択\n",
    "よいモデルとは？  \n",
    "当てはまりのよいモデル?よい予測をするモデル?  \n",
    "- 変数を増やせば増やすほど当てはまりのよいモデルになるが、過学習を引き起こす\n",
    "- テストデータへの当てはまりだけを追求したモデルは、汎用的でなく、使えない\n",
    "- よいモデルとはよい予測をするモデルである。\n",
    "\n",
    "AICとは\n",
    "- よい予測をするモデルがよいモデルであるとの考えに基づいて設計された選択基準\n",
    "\n",
    "※ここで言うあてはまりのよさは、最大尤度が大きいということ"
   ],
   "metadata": {}
  },
  {
   "cell_type": "markdown",
   "source": [
    "# 統計モデルの当てはまりの悪さ：逸脱度"
   ],
   "metadata": {}
  },
  {
   "cell_type": "markdown",
   "source": [
    "## 逸脱度(deviance)とは\n",
    "- 最大対数尤度を変形した統計量\n",
    "\n",
    "最大対数尤度を$ logL^{*} $とすると以下で与えられる\n",
    "$$\n",
    "逸脱度 D = -2logL^{*}\n",
    "$$\n",
    "\n",
    "- あてはまりの悪さを表現する指標であり、数値が大きいならあてはまりが悪い\n",
    "\n",
    "| 名前 | 定義 |\n",
    "| :--- | :--- |\n",
    "| 逸脱度(D) | $ -2logL^{*} $ |\n",
    "| 最小の逸脱度 | フルモデルを当てはめたときのD |\n",
    "| 残差逸脱度 | D - 最小のD |\n",
    "| 最大の逸脱度 | NullモデルをあてはめたときのD |\n",
    "| Null逸脱度 | 最大のD - 最小のD |\n",
    "\n",
    "**フルモデルを当てはめたときのDとは**  \n",
    "仮に被説明変数$y_i$が100個のデータとしたら、\n",
    "- i\\in{1,2,3}の$ y_i $は6なので、{$ \\lambda_1,\\lambda_2,\\lambda_3 $}={6,6,6}\n",
    "- i=4の$ y_4 $は12なので$ \\lambda_4=12 $\n",
    "- 以下略\n",
    "\n",
    "上記の様に100個のパラメータに対して、100個の被説明変数を読み上げる様に、値を決定した場合の逸脱度が最小の逸脱度となる  \n",
    "**最大の逸脱度とは**  \n",
    "最もあてはまりの悪いモデルで、ポアソン回帰の場合、$ y_i=e^{\\beta_i} $のような切片だけのモデルのときでの逸脱度である."
   ],
   "metadata": {}
  },
  {
   "cell_type": "code",
   "execution_count": 1,
   "source": [
    "import pandas as pd\n",
    "import matplotlib.pyplot as plt\n",
    "import numpy as np\n",
    "import scipy.stats as scs\n",
    "%matplotlib inline"
   ],
   "outputs": [],
   "metadata": {}
  },
  {
   "cell_type": "code",
   "execution_count": 2,
   "source": [
    "data = pd.read_csv('data3a.csv')\n",
    "data"
   ],
   "outputs": [
    {
     "output_type": "execute_result",
     "data": {
      "text/plain": [
       "     y      x  f\n",
       "0    6   8.31  C\n",
       "1    6   9.44  C\n",
       "2    6   9.50  C\n",
       "3   12   9.07  C\n",
       "4   10  10.16  C\n",
       "..  ..    ... ..\n",
       "95   8   9.15  T\n",
       "96   6   8.52  T\n",
       "97   8  10.24  T\n",
       "98   7  10.86  T\n",
       "99   9   9.97  T\n",
       "\n",
       "[100 rows x 3 columns]"
      ],
      "text/html": [
       "<div>\n",
       "<style scoped>\n",
       "    .dataframe tbody tr th:only-of-type {\n",
       "        vertical-align: middle;\n",
       "    }\n",
       "\n",
       "    .dataframe tbody tr th {\n",
       "        vertical-align: top;\n",
       "    }\n",
       "\n",
       "    .dataframe thead th {\n",
       "        text-align: right;\n",
       "    }\n",
       "</style>\n",
       "<table border=\"1\" class=\"dataframe\">\n",
       "  <thead>\n",
       "    <tr style=\"text-align: right;\">\n",
       "      <th></th>\n",
       "      <th>y</th>\n",
       "      <th>x</th>\n",
       "      <th>f</th>\n",
       "    </tr>\n",
       "  </thead>\n",
       "  <tbody>\n",
       "    <tr>\n",
       "      <th>0</th>\n",
       "      <td>6</td>\n",
       "      <td>8.31</td>\n",
       "      <td>C</td>\n",
       "    </tr>\n",
       "    <tr>\n",
       "      <th>1</th>\n",
       "      <td>6</td>\n",
       "      <td>9.44</td>\n",
       "      <td>C</td>\n",
       "    </tr>\n",
       "    <tr>\n",
       "      <th>2</th>\n",
       "      <td>6</td>\n",
       "      <td>9.50</td>\n",
       "      <td>C</td>\n",
       "    </tr>\n",
       "    <tr>\n",
       "      <th>3</th>\n",
       "      <td>12</td>\n",
       "      <td>9.07</td>\n",
       "      <td>C</td>\n",
       "    </tr>\n",
       "    <tr>\n",
       "      <th>4</th>\n",
       "      <td>10</td>\n",
       "      <td>10.16</td>\n",
       "      <td>C</td>\n",
       "    </tr>\n",
       "    <tr>\n",
       "      <th>...</th>\n",
       "      <td>...</td>\n",
       "      <td>...</td>\n",
       "      <td>...</td>\n",
       "    </tr>\n",
       "    <tr>\n",
       "      <th>95</th>\n",
       "      <td>8</td>\n",
       "      <td>9.15</td>\n",
       "      <td>T</td>\n",
       "    </tr>\n",
       "    <tr>\n",
       "      <th>96</th>\n",
       "      <td>6</td>\n",
       "      <td>8.52</td>\n",
       "      <td>T</td>\n",
       "    </tr>\n",
       "    <tr>\n",
       "      <th>97</th>\n",
       "      <td>8</td>\n",
       "      <td>10.24</td>\n",
       "      <td>T</td>\n",
       "    </tr>\n",
       "    <tr>\n",
       "      <th>98</th>\n",
       "      <td>7</td>\n",
       "      <td>10.86</td>\n",
       "      <td>T</td>\n",
       "    </tr>\n",
       "    <tr>\n",
       "      <th>99</th>\n",
       "      <td>9</td>\n",
       "      <td>9.97</td>\n",
       "      <td>T</td>\n",
       "    </tr>\n",
       "  </tbody>\n",
       "</table>\n",
       "<p>100 rows × 3 columns</p>\n",
       "</div>"
      ]
     },
     "metadata": {},
     "execution_count": 2
    }
   ],
   "metadata": {}
  },
  {
   "cell_type": "code",
   "execution_count": 3,
   "source": [
    "import statsmodels.api as sm\n",
    "import statsmodels.formula.api as smf"
   ],
   "outputs": [],
   "metadata": {}
  },
  {
   "cell_type": "code",
   "execution_count": 4,
   "source": [
    "model = smf.glm('y ~ x',data=data,family=sm.families.Poisson())\n",
    "result = model.fit()\n",
    "result.summary()"
   ],
   "outputs": [
    {
     "output_type": "execute_result",
     "data": {
      "text/plain": [
       "<class 'statsmodels.iolib.summary.Summary'>\n",
       "\"\"\"\n",
       "                 Generalized Linear Model Regression Results                  \n",
       "==============================================================================\n",
       "Dep. Variable:                      y   No. Observations:                  100\n",
       "Model:                            GLM   Df Residuals:                       98\n",
       "Model Family:                 Poisson   Df Model:                            1\n",
       "Link Function:                    log   Scale:                          1.0000\n",
       "Method:                          IRLS   Log-Likelihood:                -235.39\n",
       "Date:                Mon, 26 Jul 2021   Deviance:                       84.993\n",
       "Time:                        05:54:53   Pearson chi2:                     83.8\n",
       "No. Iterations:                     4                                         \n",
       "Covariance Type:            nonrobust                                         \n",
       "==============================================================================\n",
       "                 coef    std err          z      P>|z|      [0.025      0.975]\n",
       "------------------------------------------------------------------------------\n",
       "Intercept      1.2917      0.364      3.552      0.000       0.579       2.005\n",
       "x              0.0757      0.036      2.125      0.034       0.006       0.145\n",
       "==============================================================================\n",
       "\"\"\""
      ],
      "text/html": [
       "<table class=\"simpletable\">\n",
       "<caption>Generalized Linear Model Regression Results</caption>\n",
       "<tr>\n",
       "  <th>Dep. Variable:</th>           <td>y</td>        <th>  No. Observations:  </th>  <td>   100</td> \n",
       "</tr>\n",
       "<tr>\n",
       "  <th>Model:</th>                  <td>GLM</td>       <th>  Df Residuals:      </th>  <td>    98</td> \n",
       "</tr>\n",
       "<tr>\n",
       "  <th>Model Family:</th>         <td>Poisson</td>     <th>  Df Model:          </th>  <td>     1</td> \n",
       "</tr>\n",
       "<tr>\n",
       "  <th>Link Function:</th>          <td>log</td>       <th>  Scale:             </th> <td>  1.0000</td>\n",
       "</tr>\n",
       "<tr>\n",
       "  <th>Method:</th>                <td>IRLS</td>       <th>  Log-Likelihood:    </th> <td> -235.39</td>\n",
       "</tr>\n",
       "<tr>\n",
       "  <th>Date:</th>            <td>Mon, 26 Jul 2021</td> <th>  Deviance:          </th> <td>  84.993</td>\n",
       "</tr>\n",
       "<tr>\n",
       "  <th>Time:</th>                <td>05:54:53</td>     <th>  Pearson chi2:      </th>  <td>  83.8</td> \n",
       "</tr>\n",
       "<tr>\n",
       "  <th>No. Iterations:</th>          <td>4</td>        <th>                     </th>     <td> </td>   \n",
       "</tr>\n",
       "<tr>\n",
       "  <th>Covariance Type:</th>     <td>nonrobust</td>    <th>                     </th>     <td> </td>   \n",
       "</tr>\n",
       "</table>\n",
       "<table class=\"simpletable\">\n",
       "<tr>\n",
       "      <td></td>         <th>coef</th>     <th>std err</th>      <th>z</th>      <th>P>|z|</th>  <th>[0.025</th>    <th>0.975]</th>  \n",
       "</tr>\n",
       "<tr>\n",
       "  <th>Intercept</th> <td>    1.2917</td> <td>    0.364</td> <td>    3.552</td> <td> 0.000</td> <td>    0.579</td> <td>    2.005</td>\n",
       "</tr>\n",
       "<tr>\n",
       "  <th>x</th>         <td>    0.0757</td> <td>    0.036</td> <td>    2.125</td> <td> 0.034</td> <td>    0.006</td> <td>    0.145</td>\n",
       "</tr>\n",
       "</table>"
      ]
     },
     "metadata": {},
     "execution_count": 4
    }
   ],
   "metadata": {}
  },
  {
   "cell_type": "markdown",
   "source": [
    "上記の結果について、残差逸脱度（D - 最小のD）が、Deviance:84.993で表示されている"
   ],
   "metadata": {}
  },
  {
   "cell_type": "markdown",
   "source": [
    "## full modelの逸脱度（最小の逸脱度）の計算"
   ],
   "metadata": {}
  },
  {
   "cell_type": "code",
   "execution_count": 5,
   "source": [
    "# 無名関数の定義:変数 = lambda 引数:式\n",
    "dpois = lambda x:scs.poisson.logpmf(x,x)"
   ],
   "outputs": [],
   "metadata": {}
  },
  {
   "cell_type": "code",
   "execution_count": 6,
   "source": [
    "# 与えられたデータを最尤推定値としたポアソン分布の最大対数尤度を返す無名関数に、yの値を入れていく\n",
    "dpois(data.y)"
   ],
   "outputs": [
    {
     "output_type": "execute_result",
     "data": {
      "text/plain": [
       "array([-1.8286944 , -1.8286944 , -1.8286944 , -2.1683347 , -2.07856164,\n",
       "       -1.63287639, -2.02680628, -2.02680628, -2.02680628, -2.12545985,\n",
       "       -1.8286944 , -2.07856164, -1.8286944 , -2.07856164, -2.12545985,\n",
       "       -1.96907057, -1.4959226 , -1.96907057, -1.74030218, -1.74030218,\n",
       "       -1.63287639, -2.12545985, -1.74030218, -2.07856164, -1.8286944 ,\n",
       "       -1.8286944 , -1.90379032, -2.02680628, -1.4959226 , -2.07856164,\n",
       "       -1.30685282, -2.02680628, -2.07856164, -1.74030218, -2.12545985,\n",
       "       -2.07856164, -1.63287639, -1.96907057, -2.02680628, -2.1683347 ,\n",
       "       -1.96907057, -2.02680628, -1.96907057, -1.8286944 , -1.8286944 ,\n",
       "       -2.07856164, -2.07856164, -2.02680628, -2.1683347 , -1.8286944 ,\n",
       "       -2.24441857, -1.8286944 , -1.90379032, -2.02680628, -1.8286944 ,\n",
       "       -1.90379032, -2.02680628, -2.20782221, -2.02680628, -2.20782221,\n",
       "       -1.90379032, -1.96907057, -2.07856164, -1.90379032, -2.1683347 ,\n",
       "       -1.8286944 , -2.27851837, -1.4959226 , -1.63287639, -1.8286944 ,\n",
       "       -2.07856164, -1.96907057, -1.96907057, -1.90379032, -1.74030218,\n",
       "       -1.8286944 , -1.96907057, -2.02680628, -2.02680628, -1.8286944 ,\n",
       "       -1.90379032, -2.07856164, -1.8286944 , -2.12545985, -2.12545985,\n",
       "       -2.12545985, -1.74030218, -1.8286944 , -1.63287639, -1.74030218,\n",
       "       -1.8286944 , -1.74030218, -1.96907057, -1.74030218, -2.02680628,\n",
       "       -1.96907057, -1.8286944 , -1.96907057, -1.90379032, -2.02680628])"
      ]
     },
     "metadata": {},
     "execution_count": 6
    }
   ],
   "metadata": {}
  },
  {
   "cell_type": "code",
   "execution_count": 7,
   "source": [
    "# それぞれのiに対する最大対数尤度をすべて加算し、全体の最大対数尤度を算出\n",
    "max_logl = sum(dpois(data.y))\n",
    "max_logl"
   ],
   "outputs": [
    {
     "output_type": "execute_result",
     "data": {
      "text/plain": [
       "-192.8897525244958"
      ]
     },
     "metadata": {},
     "execution_count": 7
    }
   ],
   "metadata": {}
  },
  {
   "cell_type": "code",
   "execution_count": 8,
   "source": [
    "# 最小逸脱度を計算\n",
    "min_dev = max_logl * -2\n",
    "min_dev"
   ],
   "outputs": [
    {
     "output_type": "execute_result",
     "data": {
      "text/plain": [
       "385.7795050489916"
      ]
     },
     "metadata": {},
     "execution_count": 8
    }
   ],
   "metadata": {}
  },
  {
   "cell_type": "markdown",
   "source": [
    "## null modelの作成\n",
    "切片だけの最も最大対数尤度が低いモデル"
   ],
   "metadata": {}
  },
  {
   "cell_type": "code",
   "execution_count": 9,
   "source": [
    "model = smf.glm('y ~ 1',data=data,family=sm.families.Poisson())\n",
    "result = model.fit()\n",
    "result.summary()"
   ],
   "outputs": [
    {
     "output_type": "execute_result",
     "data": {
      "text/plain": [
       "<class 'statsmodels.iolib.summary.Summary'>\n",
       "\"\"\"\n",
       "                 Generalized Linear Model Regression Results                  \n",
       "==============================================================================\n",
       "Dep. Variable:                      y   No. Observations:                  100\n",
       "Model:                            GLM   Df Residuals:                       99\n",
       "Model Family:                 Poisson   Df Model:                            0\n",
       "Link Function:                    log   Scale:                          1.0000\n",
       "Method:                          IRLS   Log-Likelihood:                -237.64\n",
       "Date:                Mon, 26 Jul 2021   Deviance:                       89.507\n",
       "Time:                        05:54:53   Pearson chi2:                     87.1\n",
       "No. Iterations:                     4                                         \n",
       "Covariance Type:            nonrobust                                         \n",
       "==============================================================================\n",
       "                 coef    std err          z      P>|z|      [0.025      0.975]\n",
       "------------------------------------------------------------------------------\n",
       "Intercept      2.0580      0.036     57.586      0.000       1.988       2.128\n",
       "==============================================================================\n",
       "\"\"\""
      ],
      "text/html": [
       "<table class=\"simpletable\">\n",
       "<caption>Generalized Linear Model Regression Results</caption>\n",
       "<tr>\n",
       "  <th>Dep. Variable:</th>           <td>y</td>        <th>  No. Observations:  </th>  <td>   100</td> \n",
       "</tr>\n",
       "<tr>\n",
       "  <th>Model:</th>                  <td>GLM</td>       <th>  Df Residuals:      </th>  <td>    99</td> \n",
       "</tr>\n",
       "<tr>\n",
       "  <th>Model Family:</th>         <td>Poisson</td>     <th>  Df Model:          </th>  <td>     0</td> \n",
       "</tr>\n",
       "<tr>\n",
       "  <th>Link Function:</th>          <td>log</td>       <th>  Scale:             </th> <td>  1.0000</td>\n",
       "</tr>\n",
       "<tr>\n",
       "  <th>Method:</th>                <td>IRLS</td>       <th>  Log-Likelihood:    </th> <td> -237.64</td>\n",
       "</tr>\n",
       "<tr>\n",
       "  <th>Date:</th>            <td>Mon, 26 Jul 2021</td> <th>  Deviance:          </th> <td>  89.507</td>\n",
       "</tr>\n",
       "<tr>\n",
       "  <th>Time:</th>                <td>05:54:53</td>     <th>  Pearson chi2:      </th>  <td>  87.1</td> \n",
       "</tr>\n",
       "<tr>\n",
       "  <th>No. Iterations:</th>          <td>4</td>        <th>                     </th>     <td> </td>   \n",
       "</tr>\n",
       "<tr>\n",
       "  <th>Covariance Type:</th>     <td>nonrobust</td>    <th>                     </th>     <td> </td>   \n",
       "</tr>\n",
       "</table>\n",
       "<table class=\"simpletable\">\n",
       "<tr>\n",
       "      <td></td>         <th>coef</th>     <th>std err</th>      <th>z</th>      <th>P>|z|</th>  <th>[0.025</th>    <th>0.975]</th>  \n",
       "</tr>\n",
       "<tr>\n",
       "  <th>Intercept</th> <td>    2.0580</td> <td>    0.036</td> <td>   57.586</td> <td> 0.000</td> <td>    1.988</td> <td>    2.128</td>\n",
       "</tr>\n",
       "</table>"
      ]
     },
     "metadata": {},
     "execution_count": 9
    }
   ],
   "metadata": {}
  },
  {
   "cell_type": "markdown",
   "source": [
    "- 残差逸脱度はDeviance:89.507である\n",
    "- 一定モデルの最大対数尤度は-237.64であり、逸脱度は-2をかけて475.28程度。最小逸脱度は385.77程度だったので、475.28 - 385.77 = 89.51程度でDevianceと一致している"
   ],
   "metadata": {}
  },
  {
   "cell_type": "markdown",
   "source": [
    "## (確認)一定モデルなら\\lambdaはデータ平均と一致する\n",
    "$$log\\lambda = \\beta_1$$"
   ],
   "metadata": {}
  },
  {
   "cell_type": "code",
   "execution_count": 10,
   "source": [
    "data.y.mean()"
   ],
   "outputs": [
    {
     "output_type": "execute_result",
     "data": {
      "text/plain": [
       "7.83"
      ]
     },
     "metadata": {},
     "execution_count": 10
    }
   ],
   "metadata": {}
  },
  {
   "cell_type": "code",
   "execution_count": 11,
   "source": [
    "np.log(data.y.mean())"
   ],
   "outputs": [
    {
     "output_type": "execute_result",
     "data": {
      "text/plain": [
       "2.057962510002712"
      ]
     },
     "metadata": {},
     "execution_count": 11
    }
   ],
   "metadata": {}
  },
  {
   "cell_type": "markdown",
   "source": [
    "データ平均のlogと、切片の推定値が一致している"
   ],
   "metadata": {}
  },
  {
   "cell_type": "markdown",
   "source": [
    "# モデル選択基準AIC"
   ],
   "metadata": {}
  },
  {
   "cell_type": "markdown",
   "source": [
    "## AIC(Akaike's information criterionとは\n",
    "- 統計モデルの予測の良さを重視するモデル選択基準\n",
    "\n",
    "最尤推定したパラメータ個数がKであるとき\n",
    "$$\n",
    "\\begin{aligned}\n",
    "  AIC &= -2logL^{*} + 2k \\\\\n",
    "  &= D + 2k \\\\\n",
    "\\end{aligned}\n",
    "$$\n",
    "AICが一番小さいモデルがよいモデルとされる。\n"
   ],
   "metadata": {}
  },
  {
   "cell_type": "markdown",
   "source": [
    "## ネストしているモデルとは?\n",
    "- 一定モデル:$ log\\lambda_i=\\beta_1 $と、xモデル:$ log\\lambda_i=\\beta_1+\\beta_2x_i $の様に一方が他方の含まれているモデルのこと。→xモデルにおいて、$ \\beta_2=0 $とすると、一定モデルになる。"
   ],
   "metadata": {}
  },
  {
   "cell_type": "markdown",
   "source": [
    "## なぜAICでモデル選択してよいのか\n",
    "**平均対数尤度とは**  \n",
    "真の分布が分かっていると仮定したとき、真の分布から何回もサンプリングしておく。はじめに推定されたパラメータを織り込んだモデルと、真の分布からサンプリングしたデータとの対数尤度を、何回も算定し、その平均をとったもの。よって、これが真の分布との真の対数尤度といえて、**統計モデルの予測の良さを示す量**となる。  \n",
    "**バイアスとは**  \n",
    "構築したモデルの最大対数尤度($ logL^{*} $)と、平均対数尤度($ E(logL) $)との差bをバイアスとして、以下で定義する。\n",
    "$$\n",
    "b = logL^{*} - E(logL)\n",
    "$$\n",
    "この時、知りたいのは平均対数尤度であるので、式変形すると\n",
    "$$\n",
    "E(logL) = logL^{*} - b\n",
    "$$\n",
    "上記の変形をバイアス補正という  \n",
    "**なぜAICが予測の良さを示す量なのか**  \n",
    "$$\n",
    "E(logL) = logL^{*} - b\n",
    "$$\n",
    "において、b = kとなることが解析的、数学的に知られている。  \n",
    "そのため、$ AIC = -2(logL^{*} - k) $は平均対数尤度に-2を掛けたものであり、数値が小さいほど、真の分布に対しての当てはまりがよい。つまり、真の分布に対しての予測が優れていると解釈することができる。\n",
    "\n"
   ],
   "metadata": {}
  }
 ],
 "metadata": {
  "kernelspec": {
   "name": "python3",
   "display_name": "Python 3.8.5 64-bit ('base': conda)"
  },
  "language_info": {
   "codemirror_mode": {
    "name": "ipython",
    "version": 3
   },
   "file_extension": ".py",
   "mimetype": "text/x-python",
   "name": "python",
   "nbconvert_exporter": "python",
   "pygments_lexer": "ipython3",
   "version": "3.8.5"
  },
  "interpreter": {
   "hash": "eef77aded9424b2b5ad85ce5bd28a6ef054e1f7b34acdcfb361050739dff75a2"
  }
 },
 "nbformat": 4,
 "nbformat_minor": 4
}