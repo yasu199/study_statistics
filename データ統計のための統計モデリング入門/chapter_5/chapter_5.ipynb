{
 "cells": [
  {
   "cell_type": "markdown",
   "source": [
    "# GLMの尤度比検定と検定の非対称性"
   ],
   "metadata": {}
  },
  {
   "cell_type": "markdown",
   "source": [
    "## 今回扱う検定と考え方\n",
    "- この本においては、検定を推定された統計モデルを比較する手段として用いる\n",
    "- 今回扱うのは、尤度比検定\n",
    "\n",
    "### 尤度比検定とは\n",
    "逸脱度に注目する検定手法"
   ],
   "metadata": {}
  },
  {
   "cell_type": "markdown",
   "source": [
    "## 統計モデルの検定の考え方\n",
    "比較したいネストされた2つの統計モデルがあったとき、尤度の低い方のモデルを帰無仮説、尤度の高い方のモデルを対立仮説とする。\n",
    "- **逸脱度の差**を算出し、**帰無仮説を真としたとき**に、その差が有意水準5%で棄却できるかを調べる。\n",
    "- 棄却できれば対立仮説を採用する"
   ],
   "metadata": {}
  },
  {
   "cell_type": "markdown",
   "source": [
    "## 尤度比検定の例\n",
    "- 使うデータ：今まで扱った種子データ\n",
    "- 比較するモデル（上から帰無仮説、対立仮説）\n",
    "$$\n",
    "\\begin{align}\n",
    "\\lambda_i &= e^{\\beta_1}\\\\\n",
    "\\lambda_i &= e^{\\beta_1+\\beta_2x_i}\n",
    "\\end{align}\n",
    "$$\n",
    "- 二つのモデルの逸脱度について、その差を算出\n",
    "- 帰無仮説が真として、このモデルからデータを何回も発生させ、逸脱度の差の分布を得る\n",
    "- 上記で発生させた分布に最初に算出した逸脱度の差を当てはめたとき、有意水準5%で棄却できるかを調べる"
   ],
   "metadata": {}
  },
  {
   "cell_type": "markdown",
   "source": [
    "### 順にデータの概要を追っていく"
   ],
   "metadata": {}
  },
  {
   "cell_type": "code",
   "execution_count": 1,
   "source": [
    "import pandas as pd\n",
    "import matplotlib.pyplot as plt\n",
    "import numpy as np\n",
    "import scipy.stats as scs\n",
    "import statsmodels.api as sm\n",
    "import statsmodels.formula.api as smf\n",
    "\n",
    "%matplotlib inline"
   ],
   "outputs": [],
   "metadata": {}
  },
  {
   "cell_type": "code",
   "execution_count": 2,
   "source": [
    "data = pd.read_csv('data3a.csv')\n",
    "data.head()"
   ],
   "outputs": [
    {
     "output_type": "execute_result",
     "data": {
      "text/plain": [
       "    y      x  f\n",
       "0   6   8.31  C\n",
       "1   6   9.44  C\n",
       "2   6   9.50  C\n",
       "3  12   9.07  C\n",
       "4  10  10.16  C"
      ],
      "text/html": [
       "<div>\n",
       "<style scoped>\n",
       "    .dataframe tbody tr th:only-of-type {\n",
       "        vertical-align: middle;\n",
       "    }\n",
       "\n",
       "    .dataframe tbody tr th {\n",
       "        vertical-align: top;\n",
       "    }\n",
       "\n",
       "    .dataframe thead th {\n",
       "        text-align: right;\n",
       "    }\n",
       "</style>\n",
       "<table border=\"1\" class=\"dataframe\">\n",
       "  <thead>\n",
       "    <tr style=\"text-align: right;\">\n",
       "      <th></th>\n",
       "      <th>y</th>\n",
       "      <th>x</th>\n",
       "      <th>f</th>\n",
       "    </tr>\n",
       "  </thead>\n",
       "  <tbody>\n",
       "    <tr>\n",
       "      <th>0</th>\n",
       "      <td>6</td>\n",
       "      <td>8.31</td>\n",
       "      <td>C</td>\n",
       "    </tr>\n",
       "    <tr>\n",
       "      <th>1</th>\n",
       "      <td>6</td>\n",
       "      <td>9.44</td>\n",
       "      <td>C</td>\n",
       "    </tr>\n",
       "    <tr>\n",
       "      <th>2</th>\n",
       "      <td>6</td>\n",
       "      <td>9.50</td>\n",
       "      <td>C</td>\n",
       "    </tr>\n",
       "    <tr>\n",
       "      <th>3</th>\n",
       "      <td>12</td>\n",
       "      <td>9.07</td>\n",
       "      <td>C</td>\n",
       "    </tr>\n",
       "    <tr>\n",
       "      <th>4</th>\n",
       "      <td>10</td>\n",
       "      <td>10.16</td>\n",
       "      <td>C</td>\n",
       "    </tr>\n",
       "  </tbody>\n",
       "</table>\n",
       "</div>"
      ]
     },
     "metadata": {},
     "execution_count": 2
    }
   ],
   "metadata": {}
  },
  {
   "cell_type": "code",
   "execution_count": 3,
   "source": [
    "# 帰無仮説の一定モデルを作成\n",
    "model_1 = smf.glm('y~1',data=data,family=sm.families.Poisson())\n",
    "result_1 = model_1.fit()\n",
    "result_1.summary()"
   ],
   "outputs": [
    {
     "output_type": "execute_result",
     "data": {
      "text/plain": [
       "<class 'statsmodels.iolib.summary.Summary'>\n",
       "\"\"\"\n",
       "                 Generalized Linear Model Regression Results                  \n",
       "==============================================================================\n",
       "Dep. Variable:                      y   No. Observations:                  100\n",
       "Model:                            GLM   Df Residuals:                       99\n",
       "Model Family:                 Poisson   Df Model:                            0\n",
       "Link Function:                    log   Scale:                          1.0000\n",
       "Method:                          IRLS   Log-Likelihood:                -237.64\n",
       "Date:                Wed, 28 Jul 2021   Deviance:                       89.507\n",
       "Time:                        05:48:10   Pearson chi2:                     87.1\n",
       "No. Iterations:                     4                                         \n",
       "Covariance Type:            nonrobust                                         \n",
       "==============================================================================\n",
       "                 coef    std err          z      P>|z|      [0.025      0.975]\n",
       "------------------------------------------------------------------------------\n",
       "Intercept      2.0580      0.036     57.586      0.000       1.988       2.128\n",
       "==============================================================================\n",
       "\"\"\""
      ],
      "text/html": [
       "<table class=\"simpletable\">\n",
       "<caption>Generalized Linear Model Regression Results</caption>\n",
       "<tr>\n",
       "  <th>Dep. Variable:</th>           <td>y</td>        <th>  No. Observations:  </th>  <td>   100</td> \n",
       "</tr>\n",
       "<tr>\n",
       "  <th>Model:</th>                  <td>GLM</td>       <th>  Df Residuals:      </th>  <td>    99</td> \n",
       "</tr>\n",
       "<tr>\n",
       "  <th>Model Family:</th>         <td>Poisson</td>     <th>  Df Model:          </th>  <td>     0</td> \n",
       "</tr>\n",
       "<tr>\n",
       "  <th>Link Function:</th>          <td>log</td>       <th>  Scale:             </th> <td>  1.0000</td>\n",
       "</tr>\n",
       "<tr>\n",
       "  <th>Method:</th>                <td>IRLS</td>       <th>  Log-Likelihood:    </th> <td> -237.64</td>\n",
       "</tr>\n",
       "<tr>\n",
       "  <th>Date:</th>            <td>Wed, 28 Jul 2021</td> <th>  Deviance:          </th> <td>  89.507</td>\n",
       "</tr>\n",
       "<tr>\n",
       "  <th>Time:</th>                <td>05:48:10</td>     <th>  Pearson chi2:      </th>  <td>  87.1</td> \n",
       "</tr>\n",
       "<tr>\n",
       "  <th>No. Iterations:</th>          <td>4</td>        <th>                     </th>     <td> </td>   \n",
       "</tr>\n",
       "<tr>\n",
       "  <th>Covariance Type:</th>     <td>nonrobust</td>    <th>                     </th>     <td> </td>   \n",
       "</tr>\n",
       "</table>\n",
       "<table class=\"simpletable\">\n",
       "<tr>\n",
       "      <td></td>         <th>coef</th>     <th>std err</th>      <th>z</th>      <th>P>|z|</th>  <th>[0.025</th>    <th>0.975]</th>  \n",
       "</tr>\n",
       "<tr>\n",
       "  <th>Intercept</th> <td>    2.0580</td> <td>    0.036</td> <td>   57.586</td> <td> 0.000</td> <td>    1.988</td> <td>    2.128</td>\n",
       "</tr>\n",
       "</table>"
      ]
     },
     "metadata": {},
     "execution_count": 3
    }
   ],
   "metadata": {}
  },
  {
   "cell_type": "code",
   "execution_count": 4,
   "source": [
    "# 対立仮説の一定モデルを作成\n",
    "model_2 = smf.glm('y~x',data=data,family=sm.families.Poisson())\n",
    "result_2 = model_2.fit()\n",
    "result_2.summary()"
   ],
   "outputs": [
    {
     "output_type": "execute_result",
     "data": {
      "text/plain": [
       "<class 'statsmodels.iolib.summary.Summary'>\n",
       "\"\"\"\n",
       "                 Generalized Linear Model Regression Results                  \n",
       "==============================================================================\n",
       "Dep. Variable:                      y   No. Observations:                  100\n",
       "Model:                            GLM   Df Residuals:                       98\n",
       "Model Family:                 Poisson   Df Model:                            1\n",
       "Link Function:                    log   Scale:                          1.0000\n",
       "Method:                          IRLS   Log-Likelihood:                -235.39\n",
       "Date:                Wed, 28 Jul 2021   Deviance:                       84.993\n",
       "Time:                        05:48:10   Pearson chi2:                     83.8\n",
       "No. Iterations:                     4                                         \n",
       "Covariance Type:            nonrobust                                         \n",
       "==============================================================================\n",
       "                 coef    std err          z      P>|z|      [0.025      0.975]\n",
       "------------------------------------------------------------------------------\n",
       "Intercept      1.2917      0.364      3.552      0.000       0.579       2.005\n",
       "x              0.0757      0.036      2.125      0.034       0.006       0.145\n",
       "==============================================================================\n",
       "\"\"\""
      ],
      "text/html": [
       "<table class=\"simpletable\">\n",
       "<caption>Generalized Linear Model Regression Results</caption>\n",
       "<tr>\n",
       "  <th>Dep. Variable:</th>           <td>y</td>        <th>  No. Observations:  </th>  <td>   100</td> \n",
       "</tr>\n",
       "<tr>\n",
       "  <th>Model:</th>                  <td>GLM</td>       <th>  Df Residuals:      </th>  <td>    98</td> \n",
       "</tr>\n",
       "<tr>\n",
       "  <th>Model Family:</th>         <td>Poisson</td>     <th>  Df Model:          </th>  <td>     1</td> \n",
       "</tr>\n",
       "<tr>\n",
       "  <th>Link Function:</th>          <td>log</td>       <th>  Scale:             </th> <td>  1.0000</td>\n",
       "</tr>\n",
       "<tr>\n",
       "  <th>Method:</th>                <td>IRLS</td>       <th>  Log-Likelihood:    </th> <td> -235.39</td>\n",
       "</tr>\n",
       "<tr>\n",
       "  <th>Date:</th>            <td>Wed, 28 Jul 2021</td> <th>  Deviance:          </th> <td>  84.993</td>\n",
       "</tr>\n",
       "<tr>\n",
       "  <th>Time:</th>                <td>05:48:10</td>     <th>  Pearson chi2:      </th>  <td>  83.8</td> \n",
       "</tr>\n",
       "<tr>\n",
       "  <th>No. Iterations:</th>          <td>4</td>        <th>                     </th>     <td> </td>   \n",
       "</tr>\n",
       "<tr>\n",
       "  <th>Covariance Type:</th>     <td>nonrobust</td>    <th>                     </th>     <td> </td>   \n",
       "</tr>\n",
       "</table>\n",
       "<table class=\"simpletable\">\n",
       "<tr>\n",
       "      <td></td>         <th>coef</th>     <th>std err</th>      <th>z</th>      <th>P>|z|</th>  <th>[0.025</th>    <th>0.975]</th>  \n",
       "</tr>\n",
       "<tr>\n",
       "  <th>Intercept</th> <td>    1.2917</td> <td>    0.364</td> <td>    3.552</td> <td> 0.000</td> <td>    0.579</td> <td>    2.005</td>\n",
       "</tr>\n",
       "<tr>\n",
       "  <th>x</th>         <td>    0.0757</td> <td>    0.036</td> <td>    2.125</td> <td> 0.034</td> <td>    0.006</td> <td>    0.145</td>\n",
       "</tr>\n",
       "</table>"
      ]
     },
     "metadata": {},
     "execution_count": 4
    }
   ],
   "metadata": {}
  },
  {
   "cell_type": "markdown",
   "source": [
    "## 尤度比 "
   ],
   "metadata": {}
  },
  {
   "cell_type": "markdown",
   "source": [
    "- 尤度比を対数変換して-2掛けることで、逸脱度の差を算出する\n",
    "\n",
    "$$\n",
    "\\begin{align}\n",
    "\\frac{L_1^{*}}{L_2^{*}} &= \\frac{e^{-237.64}}{e^{-235.39}}\\\\\n",
    "\\Delta D_{1,2} &= -2×(logL_1^{*}-logL_2^{*})\n",
    "\\end{align}\n",
    "$$\n",
    "- 逸脱度は同じデータに対して、パラメータ数の多いモデルのほうが常に小さくなる"
   ],
   "metadata": {}
  },
  {
   "cell_type": "code",
   "execution_count": 6,
   "source": [
    "# 尤度比を算出\n",
    "np.exp(result_1.llf)/np.exp(result_2.llf)"
   ],
   "outputs": [
    {
     "output_type": "execute_result",
     "data": {
      "text/plain": [
       "0.10466708976326024"
      ]
     },
     "metadata": {},
     "execution_count": 6
    }
   ],
   "metadata": {}
  },
  {
   "cell_type": "code",
   "execution_count": 7,
   "source": [
    "# 逸脱度の差\n",
    "deviance_difference = result_1.deviance - result_2.deviance\n",
    "deviance_difference"
   ],
   "outputs": [
    {
     "output_type": "execute_result",
     "data": {
      "text/plain": [
       "4.513941078851744"
      ]
     },
     "metadata": {},
     "execution_count": 7
    }
   ],
   "metadata": {}
  },
  {
   "cell_type": "markdown",
   "source": [
    "- 一定モデルに対して、xモデルは逸脱度が4.5改善されたといえる\n",
    "- この4.5という数字は、一定モデルを真のモデルとしたときに有意といえる差なのかを調べ、本当に改善されているかを調べる"
   ],
   "metadata": {}
  },
  {
   "cell_type": "markdown",
   "source": [
    "## 統計検定量$ \\Delta D_{1,2} $のP値の算出"
   ],
   "metadata": {}
  },
  {
   "cell_type": "markdown",
   "source": [
    "### パラメトリックブーストラップ法(parametric boostrap,PB)\n",
    "- 一定モデルが真のモデルと仮定し、そこから乱数を作成\n",
    "- 作成した乱数データに対して、一定モデル、xモデルを適用\n",
    "- 上記について、逸脱度の差を算出\n",
    "- 1000回ほど繰り返し、逸脱度の差の分布を導出\n",
    "- 逸脱度の差の分布に対し、逸脱度の差4.5は有意であるか調べる"
   ],
   "metadata": {}
  },
  {
   "cell_type": "code",
   "execution_count": 11,
   "source": [
    "# 一定モデルを真として、乱数を作成\n",
    "# 具体的には、一定モデルで推定された平均種子数を\\lambdaとして、ポアソン乱数を作成する\n",
    "log_ramda = result_1.params[0]\n",
    "log_ramda"
   ],
   "outputs": [
    {
     "output_type": "execute_result",
     "data": {
      "text/plain": [
       "2.0579625100027115"
      ]
     },
     "metadata": {},
     "execution_count": 11
    }
   ],
   "metadata": {}
  },
  {
   "cell_type": "markdown",
   "source": [
    "- 上記で$log\\lambda = 2.057…$を得た\n",
    "- 次に$\\lambda = e^{2.057…}$より\\lambdaを得る"
   ],
   "metadata": {}
  },
  {
   "cell_type": "code",
   "execution_count": 12,
   "source": [
    "ramda = np.exp(log_ramda)\n",
    "ramda"
   ],
   "outputs": [
    {
     "output_type": "execute_result",
     "data": {
      "text/plain": [
       "7.829999999999998"
      ]
     },
     "metadata": {},
     "execution_count": 12
    }
   ],
   "metadata": {}
  },
  {
   "cell_type": "markdown",
   "source": [
    "- $\\lambda = 7.82999$として、ポアソン乱数を作成"
   ],
   "metadata": {}
  },
  {
   "cell_type": "code",
   "execution_count": 13,
   "source": [
    "np.random.seed(10)\n",
    "data[\"y_rand\"] = np.random.poisson(ramda, 100)\n",
    "data.head()"
   ],
   "outputs": [
    {
     "output_type": "execute_result",
     "data": {
      "text/plain": [
       "    y      x  f  y_rand\n",
       "0   6   8.31  C       6\n",
       "1   6   9.44  C       5\n",
       "2   6   9.50  C      11\n",
       "3  12   9.07  C      10\n",
       "4  10  10.16  C       6"
      ],
      "text/html": [
       "<div>\n",
       "<style scoped>\n",
       "    .dataframe tbody tr th:only-of-type {\n",
       "        vertical-align: middle;\n",
       "    }\n",
       "\n",
       "    .dataframe tbody tr th {\n",
       "        vertical-align: top;\n",
       "    }\n",
       "\n",
       "    .dataframe thead th {\n",
       "        text-align: right;\n",
       "    }\n",
       "</style>\n",
       "<table border=\"1\" class=\"dataframe\">\n",
       "  <thead>\n",
       "    <tr style=\"text-align: right;\">\n",
       "      <th></th>\n",
       "      <th>y</th>\n",
       "      <th>x</th>\n",
       "      <th>f</th>\n",
       "      <th>y_rand</th>\n",
       "    </tr>\n",
       "  </thead>\n",
       "  <tbody>\n",
       "    <tr>\n",
       "      <th>0</th>\n",
       "      <td>6</td>\n",
       "      <td>8.31</td>\n",
       "      <td>C</td>\n",
       "      <td>6</td>\n",
       "    </tr>\n",
       "    <tr>\n",
       "      <th>1</th>\n",
       "      <td>6</td>\n",
       "      <td>9.44</td>\n",
       "      <td>C</td>\n",
       "      <td>5</td>\n",
       "    </tr>\n",
       "    <tr>\n",
       "      <th>2</th>\n",
       "      <td>6</td>\n",
       "      <td>9.50</td>\n",
       "      <td>C</td>\n",
       "      <td>11</td>\n",
       "    </tr>\n",
       "    <tr>\n",
       "      <th>3</th>\n",
       "      <td>12</td>\n",
       "      <td>9.07</td>\n",
       "      <td>C</td>\n",
       "      <td>10</td>\n",
       "    </tr>\n",
       "    <tr>\n",
       "      <th>4</th>\n",
       "      <td>10</td>\n",
       "      <td>10.16</td>\n",
       "      <td>C</td>\n",
       "      <td>6</td>\n",
       "    </tr>\n",
       "  </tbody>\n",
       "</table>\n",
       "</div>"
      ]
     },
     "metadata": {},
     "execution_count": 13
    }
   ],
   "metadata": {}
  },
  {
   "cell_type": "code",
   "execution_count": 14,
   "source": [
    "# 平均が大体ramdaぐらいか確認\n",
    "data.y_rand.mean()"
   ],
   "outputs": [
    {
     "output_type": "execute_result",
     "data": {
      "text/plain": [
       "7.45"
      ]
     },
     "metadata": {},
     "execution_count": 14
    }
   ],
   "metadata": {}
  },
  {
   "cell_type": "code",
   "execution_count": 15,
   "source": [
    "# 上記の乱数に一定モデルとxモデルを適用、逸脱度の差を算出\n",
    "model_1_rand = smf.glm('y_rand~1', data=data,family=sm.families.Poisson())\n",
    "model_2_rand = smf.glm('y_rand~x', data=data,family=sm.families.Poisson())\n",
    "result_1_rand = model_1_rand.fit()\n",
    "result_2_rand = model_2_rand.fit()\n",
    "result_1_rand.deviance - result_2_rand.deviance"
   ],
   "outputs": [
    {
     "output_type": "execute_result",
     "data": {
      "text/plain": [
       "2.7068337885090017"
      ]
     },
     "metadata": {},
     "execution_count": 15
    }
   ],
   "metadata": {}
  },
  {
   "cell_type": "code",
   "execution_count": 17,
   "source": [
    "# 上記を1000回繰り返す\n",
    "deviance_list = list()\n",
    "for i in range(1000):\n",
    "  data[\"y_rand\"] = np.random.poisson(ramda,100)\n",
    "  model_1_rand = smf.glm('y_rand~1',data=data,family=sm.families.Poisson())\n",
    "  model_2_rand = smf.glm('y_rand~x',data=data,family=sm.families.Poisson())\n",
    "  result_1_rand = model_1_rand.fit()\n",
    "  result_2_rand = model_2_rand.fit()\n",
    "  deviance_list.append(result_1_rand.deviance - result_2_rand.deviance)\n",
    "\n",
    "# 逸脱度の差の分布を表示\n",
    "plt.hist(deviance_list,bins=100,range=(-1,10))\n",
    "# 最初に求めた逸脱度の差4.5の場所を点線で表示\n",
    "plt.plot([4.5]*300,range(0,300),\"--\")\n"
   ],
   "outputs": [
    {
     "output_type": "execute_result",
     "data": {
      "text/plain": [
       "[<matplotlib.lines.Line2D at 0x22ef490bb50>]"
      ]
     },
     "metadata": {},
     "execution_count": 17
    },
    {
     "output_type": "display_data",
     "data": {
      "text/plain": [
       "<Figure size 432x288 with 1 Axes>"
      ],
      "image/png": "[encoded data removed]"
     },
     "metadata": {
      "needs_background": "light"
     }
    }
   ],
   "metadata": {}
  },
  {
   "cell_type": "markdown",
   "source": [
    "## P値を調べる"
   ],
   "metadata": {}
  },
  {
   "cell_type": "code",
   "execution_count": 18,
   "source": [
    "array = np.array(deviance_list)\n",
    "# 4.5より大きい逸脱度が何個か表示\n",
    "array[array>=4.5].shape"
   ],
   "outputs": [
    {
     "output_type": "execute_result",
     "data": {
      "text/plain": [
       "(37,)"
      ]
     },
     "metadata": {},
     "execution_count": 18
    }
   ],
   "metadata": {}
  },
  {
   "cell_type": "markdown",
   "source": [
    "- 1000個中37個がより極端な値をとる\n",
    "- p値は37/1000で0.037\n",
    "\n",
    "### p = 0.05となる逸脱度の差がどこか算出"
   ],
   "metadata": {}
  },
  {
   "cell_type": "code",
   "execution_count": 19,
   "source": [
    "np.percentile(deviance_list,95)"
   ],
   "outputs": [
    {
     "output_type": "execute_result",
     "data": {
      "text/plain": [
       "3.585291088501016"
      ]
     },
     "metadata": {},
     "execution_count": 19
    }
   ],
   "metadata": {}
  },
  {
   "cell_type": "markdown",
   "source": [
    "### 結論\n",
    "- 逸脱度の差4.5は3.58より大きく、p値も3.7%程度で有意なので、帰無仮説：一定モデルのほうが優れているが棄却され、xモデルが採用される\n",
    "- 尤度比検定が片側検定な理由は、パラメータが増えると必ず最大対数尤度は増加するから"
   ],
   "metadata": {}
  },
  {
   "cell_type": "markdown",
   "source": [
    "## $ x^{2} $分布を使った近似計算法"
   ],
   "metadata": {}
  },
  {
   "cell_type": "markdown",
   "source": [
    "- 逸脱度の差の確率分布は、近似的に自由度k（比較するモデル間のパラメータ数の差）の$ x^{2} $分布に従うことが知られている\n",
    "- これを使って検定する\n",
    "- ただし、$ x^{2} $分布に近似できるのは、サンプル数→∞としたときであるので、今回の様に、データが100個しかないようなときにはPB法を使ったほうが良い"
   ],
   "metadata": {}
  }
 ],
 "metadata": {
  "language_info": {
   "name": "python",
   "version": "3.8.5",
   "mimetype": "text/x-python",
   "codemirror_mode": {
    "name": "ipython",
    "version": 3
   },
   "pygments_lexer": "ipython3",
   "nbconvert_exporter": "python",
   "file_extension": ".py"
  },
  "kernelspec": {
   "name": "python3",
   "display_name": "Python 3.8.5 64-bit ('base': conda)"
  },
  "interpreter": {
   "hash": "eef77aded9424b2b5ad85ce5bd28a6ef054e1f7b34acdcfb361050739dff75a2"
  }
 },
 "nbformat": 4,
 "nbformat_minor": 4
}