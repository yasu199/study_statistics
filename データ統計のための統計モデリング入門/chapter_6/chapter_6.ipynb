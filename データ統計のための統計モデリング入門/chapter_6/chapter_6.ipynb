{
 "cells": [
  {
   "cell_type": "markdown",
   "source": [
    "# GLMの応用範囲をひろげる-ロジスティック回帰など-"
   ],
   "metadata": {}
  },
  {
   "cell_type": "markdown",
   "source": [
    "## 上限のあるカウントデータ\n",
    "- 上限のあるカウントデータは二項分布で表現できる\n",
    "- 例えば、N個体の実験対象に同じ処理をしたら、y個体で反応が陽性、N-y個体で陰性であったといった場合。この時はyがNという上限を持つ"
   ],
   "metadata": {}
  },
  {
   "cell_type": "markdown",
   "source": [
    "## 例題データの説明\n",
    "植物の種子数を観察し、生存している種子数を$y_i$,生存していない種子数を$N_i-y_i$とする。主なデータは以下\n",
    "- 観察種子数$N_i$はどの個体でも8個とする.（上限は8）\n",
    "- 個体iの種子の生存確率を$q_i$とする\n",
    "- 個体の大きさを示す体サイズを$x_i$とする\n",
    "- 全個体100個体のうち、50個は肥料を与えず($f_i=C$)、50個は肥料を与えた($f_i=T$)\n",
    "- 今回調べることは、生存確率$q_i$が$x_i,f_i$によってどのように変化するか"
   ],
   "metadata": {}
  },
  {
   "cell_type": "code",
   "execution_count": 22,
   "source": [
    "import numpy as np\n",
    "import pandas as pd\n",
    "import matplotlib.pyplot as plt\n",
    "import statsmodels.api as sm\n",
    "import statsmodels.formula.api as smf\n",
    "%matplotlib inline"
   ],
   "outputs": [],
   "metadata": {}
  },
  {
   "cell_type": "code",
   "execution_count": 23,
   "source": [
    "data = pd.read_csv('data4a.csv',dtype={'y':int,'x':float,'f':'category'})\n",
    "data.head()"
   ],
   "outputs": [
    {
     "output_type": "execute_result",
     "data": {
      "text/plain": [
       "   N  y      x  f\n",
       "0  8  1   9.76  C\n",
       "1  8  6  10.48  C\n",
       "2  8  5  10.83  C\n",
       "3  8  6  10.94  C\n",
       "4  8  1   9.37  C"
      ],
      "text/html": [
       "<div>\n",
       "<style scoped>\n",
       "    .dataframe tbody tr th:only-of-type {\n",
       "        vertical-align: middle;\n",
       "    }\n",
       "\n",
       "    .dataframe tbody tr th {\n",
       "        vertical-align: top;\n",
       "    }\n",
       "\n",
       "    .dataframe thead th {\n",
       "        text-align: right;\n",
       "    }\n",
       "</style>\n",
       "<table border=\"1\" class=\"dataframe\">\n",
       "  <thead>\n",
       "    <tr style=\"text-align: right;\">\n",
       "      <th></th>\n",
       "      <th>N</th>\n",
       "      <th>y</th>\n",
       "      <th>x</th>\n",
       "      <th>f</th>\n",
       "    </tr>\n",
       "  </thead>\n",
       "  <tbody>\n",
       "    <tr>\n",
       "      <th>0</th>\n",
       "      <td>8</td>\n",
       "      <td>1</td>\n",
       "      <td>9.76</td>\n",
       "      <td>C</td>\n",
       "    </tr>\n",
       "    <tr>\n",
       "      <th>1</th>\n",
       "      <td>8</td>\n",
       "      <td>6</td>\n",
       "      <td>10.48</td>\n",
       "      <td>C</td>\n",
       "    </tr>\n",
       "    <tr>\n",
       "      <th>2</th>\n",
       "      <td>8</td>\n",
       "      <td>5</td>\n",
       "      <td>10.83</td>\n",
       "      <td>C</td>\n",
       "    </tr>\n",
       "    <tr>\n",
       "      <th>3</th>\n",
       "      <td>8</td>\n",
       "      <td>6</td>\n",
       "      <td>10.94</td>\n",
       "      <td>C</td>\n",
       "    </tr>\n",
       "    <tr>\n",
       "      <th>4</th>\n",
       "      <td>8</td>\n",
       "      <td>1</td>\n",
       "      <td>9.37</td>\n",
       "      <td>C</td>\n",
       "    </tr>\n",
       "  </tbody>\n",
       "</table>\n",
       "</div>"
      ]
     },
     "metadata": {},
     "execution_count": 23
    }
   ],
   "metadata": {}
  },
  {
   "cell_type": "code",
   "execution_count": 24,
   "source": [
    "data.describe()"
   ],
   "outputs": [
    {
     "output_type": "execute_result",
     "data": {
      "text/plain": [
       "           N           y           x\n",
       "count  100.0  100.000000  100.000000\n",
       "mean     8.0    5.080000    9.967200\n",
       "std      0.0    2.743882    1.088954\n",
       "min      8.0    0.000000    7.660000\n",
       "25%      8.0    3.000000    9.337500\n",
       "50%      8.0    6.000000    9.965000\n",
       "75%      8.0    8.000000   10.770000\n",
       "max      8.0    8.000000   12.440000"
      ],
      "text/html": [
       "<div>\n",
       "<style scoped>\n",
       "    .dataframe tbody tr th:only-of-type {\n",
       "        vertical-align: middle;\n",
       "    }\n",
       "\n",
       "    .dataframe tbody tr th {\n",
       "        vertical-align: top;\n",
       "    }\n",
       "\n",
       "    .dataframe thead th {\n",
       "        text-align: right;\n",
       "    }\n",
       "</style>\n",
       "<table border=\"1\" class=\"dataframe\">\n",
       "  <thead>\n",
       "    <tr style=\"text-align: right;\">\n",
       "      <th></th>\n",
       "      <th>N</th>\n",
       "      <th>y</th>\n",
       "      <th>x</th>\n",
       "    </tr>\n",
       "  </thead>\n",
       "  <tbody>\n",
       "    <tr>\n",
       "      <th>count</th>\n",
       "      <td>100.0</td>\n",
       "      <td>100.000000</td>\n",
       "      <td>100.000000</td>\n",
       "    </tr>\n",
       "    <tr>\n",
       "      <th>mean</th>\n",
       "      <td>8.0</td>\n",
       "      <td>5.080000</td>\n",
       "      <td>9.967200</td>\n",
       "    </tr>\n",
       "    <tr>\n",
       "      <th>std</th>\n",
       "      <td>0.0</td>\n",
       "      <td>2.743882</td>\n",
       "      <td>1.088954</td>\n",
       "    </tr>\n",
       "    <tr>\n",
       "      <th>min</th>\n",
       "      <td>8.0</td>\n",
       "      <td>0.000000</td>\n",
       "      <td>7.660000</td>\n",
       "    </tr>\n",
       "    <tr>\n",
       "      <th>25%</th>\n",
       "      <td>8.0</td>\n",
       "      <td>3.000000</td>\n",
       "      <td>9.337500</td>\n",
       "    </tr>\n",
       "    <tr>\n",
       "      <th>50%</th>\n",
       "      <td>8.0</td>\n",
       "      <td>6.000000</td>\n",
       "      <td>9.965000</td>\n",
       "    </tr>\n",
       "    <tr>\n",
       "      <th>75%</th>\n",
       "      <td>8.0</td>\n",
       "      <td>8.000000</td>\n",
       "      <td>10.770000</td>\n",
       "    </tr>\n",
       "    <tr>\n",
       "      <th>max</th>\n",
       "      <td>8.0</td>\n",
       "      <td>8.000000</td>\n",
       "      <td>12.440000</td>\n",
       "    </tr>\n",
       "  </tbody>\n",
       "</table>\n",
       "</div>"
      ]
     },
     "metadata": {},
     "execution_count": 24
    }
   ],
   "metadata": {}
  },
  {
   "cell_type": "code",
   "execution_count": 25,
   "source": [
    "data.f.describe()"
   ],
   "outputs": [
    {
     "output_type": "execute_result",
     "data": {
      "text/plain": [
       "count     100\n",
       "unique      2\n",
       "top         T\n",
       "freq       50\n",
       "Name: f, dtype: object"
      ]
     },
     "metadata": {},
     "execution_count": 25
    }
   ],
   "metadata": {}
  },
  {
   "cell_type": "code",
   "execution_count": 26,
   "source": [
    "# データをプロットして確認\n",
    "x_c = data.x[data.f=='C']\n",
    "y_c = data.y[data.f=='C']\n",
    "\n",
    "x_t = data.x[data.f=='T']\n",
    "y_t = data.y[data.f=='T']\n",
    "\n",
    "plt.scatter(x_c,y_c,c='red',label='C')\n",
    "plt.scatter(x_t,y_t,c='blue',label='T')\n",
    "plt.legend()\n",
    "plt.show()"
   ],
   "outputs": [
    {
     "output_type": "display_data",
     "data": {
      "text/plain": [
       "<Figure size 432x288 with 1 Axes>"
      ],
      "image/png": "[encoded data removed]"
     },
     "metadata": {
      "needs_background": "light"
     }
    }
   ],
   "metadata": {}
  },
  {
   "cell_type": "markdown",
   "source": [
    "- プロットより、$x_i$が大きいほど生存種子数は多そう\n",
    "- 肥料をやる($f_i=T$)と、生存種子数は増えそう"
   ],
   "metadata": {}
  },
  {
   "cell_type": "markdown",
   "source": [
    "## なぜ「N個のうちy個生存していた」のような上限ありカウントデータを二項分布で表現するか"
   ],
   "metadata": {}
  },
  {
   "cell_type": "markdown",
   "source": [
    "- 二項分布の確率分布は下記で示され、0以上で上限が設定されたものになるから\n",
    "$$\n",
    "p(y|N,q) = \\dbinom{N}{y}q^{y}(1-q)^{N-y}\n",
    "$$\n",
    "- ポアソン分布の場合、平均はあるが、上限はない\n",
    "\n",
    "下記に二項分布の確率分布を示す"
   ],
   "metadata": {}
  },
  {
   "cell_type": "code",
   "execution_count": 27,
   "source": [
    "# 確率qのリスト\n",
    "q_list = [0.1,0.3,0.8]\n",
    "# 確率分布を入れるp_dictsを作っておく\n",
    "p_dicts = dict()\n",
    "# qに確率を順番に適用\n",
    "for q in q_list:\n",
    "  # 空のdict型を生成\n",
    "  p_dict = dict()\n",
    "  # 0～8まで、0:0,1:0…8:0という形でdict型に格納\n",
    "  for i in range(0,9):\n",
    "    p_dict.update({i:0})\n",
    "  # np.random.binomial(n, p=q)で、上限n個、確率qの二項分布に従う乱数を作成\n",
    "  # 作成した乱数に対応するp_dictの値を1追加,1000回繰り返す\n",
    "  for _ in range(1000):\n",
    "    rnd = np.random.binomial(8,p=q)\n",
    "    p_dict[rnd] += 1\n",
    "  # p_dictの中身をそれぞれ回数1000回で割り、確率分布に変更\n",
    "  for i in range(0,9):\n",
    "    p_dict[i] /= 1000\n",
    "  p_dicts.update({q: p_dict})\n",
    "\n",
    "for param,dictionary in p_dicts.items():\n",
    "  plt.plot(list(dictionary.keys()),list(dictionary.values()),label=str(param))\n",
    "  plt.legend()"
   ],
   "outputs": [
    {
     "output_type": "display_data",
     "data": {
      "text/plain": [
       "<Figure size 432x288 with 1 Axes>"
      ],
      "image/png": "[encoded data removed]"
     },
     "metadata": {
      "needs_background": "light"
     }
    }
   ],
   "metadata": {}
  },
  {
   "cell_type": "markdown",
   "source": [
    "## ロジスティック回帰とロジットリンク関数\n",
    "ロジスティック回帰 : 二項分布を使ったGLMのひとつ"
   ],
   "metadata": {}
  },
  {
   "cell_type": "markdown",
   "source": [
    "### ロジットリンク関数\n",
    "GLM → 確率分布・リンク関数・線形予測子を指定する統計モデル\n",
    "GLMのひとつであるロジスティック回帰は\n",
    "ロジスティック回帰 → 確率分布：二項分布・リンク関数：ロジットリンク関数を指定  \n",
    "種子のデータにおける例  \n",
    "種子の生存・非生存を表現する分布として二項分布を指定した\n",
    "$$\n",
    "二項分布：p(y|N,q) = \\dbinom{N}{y}q^{y}(1-q)^{N-y}\n",
    "$$\n",
    "二項分布はパラメータとして生存確率$q_i$を指定する必要がある。$q_i$は確率なので$0 \\leqq q_i\\leqq 1$である。  \n",
    "**これを表現する必要あり！！**  \n",
    "まず、ロジスティック関数について説明  \n",
    "$$\n",
    "ロジスティック関数 ： q_i = logistic(z_i) = \\frac{1}{1+e^{-z_i}}\\\\\n",
    "ただし、z_iは線形予測子 z_i = β_1 + β_2x_i + … \n",
    "$$\n",
    "以下、ロジスティック関数を作図して概要を把握"
   ],
   "metadata": {}
  },
  {
   "cell_type": "code",
   "execution_count": 28,
   "source": [
    "# ロジスティック関数におけるq_iを返す関数を定義\n",
    "def sigmoid(x):\n",
    "  # ここで線形予測子としての式を定義。今回は単純にz = x\n",
    "  z = x\n",
    "  return 1/(1+np.exp(-z))\n",
    "\n",
    "x = np.arange(-6,6,0.1)\n",
    "y = sigmoid(x)\n",
    "\n",
    "plt.plot(x,y)"
   ],
   "outputs": [
    {
     "output_type": "execute_result",
     "data": {
      "text/plain": [
       "[<matplotlib.lines.Line2D at 0x240de469340>]"
      ]
     },
     "metadata": {},
     "execution_count": 28
    },
    {
     "output_type": "display_data",
     "data": {
      "text/plain": [
       "<Figure size 432x288 with 1 Axes>"
      ],
      "image/png": "[encoded data removed]"
     },
     "metadata": {
      "needs_background": "light"
     }
    }
   ],
   "metadata": {}
  },
  {
   "cell_type": "markdown",
   "source": [
    "上記より、$0 \\leqq q_i \\leqq 1$が表現されている.  \n",
    "\n",
    "### ロジット関数\n",
    "ロジスティック関数を式変形\n",
    "$$\n",
    "log\\frac{q_i}{1-q_i} = z_i\\\\\n",
    "ここで、(左辺) = logit(q_i) = log\\frac{q_i}{1-q_i}\n",
    "$$\n",
    "つまり、ロジット関数とロジスティック関数は互いに逆関数である。"
   ],
   "metadata": {}
  },
  {
   "cell_type": "markdown",
   "source": [
    "## パラメータ推定\n",
    "- 統計モデルにデータを当てはめ、パラメータを最尤推定する\n",
    "- 二項分布の尤度関数\n",
    "$$\n",
    "L({β_j}) = \\prod_{i}\\dbinom{N_i}{y_i}(q_i)^{y_i}(1 - q_i)^{N_i - y_i}\\\\\n",
    "logL({β_j}) = \\sum_{i}\\{log\\dbinom{N_i}{y_i} + y_ilog(q_i) + (N_i - y_i)log(1 - q_i)\\}\\\\\n",
    "ただし、q_iはβの関数\n",
    "$$\n",
    "今回の例では、対サイズ$x_i$と施肥処理の有無$f_i$を使うため、$z_i=β_1+β_2x_i+β_3f_i$として、$q_i=\\frac{1}{1+e^{-z_i}}$とする。"
   ],
   "metadata": {}
  },
  {
   "cell_type": "code",
   "execution_count": 29,
   "source": [
    "data.head()"
   ],
   "outputs": [
    {
     "output_type": "execute_result",
     "data": {
      "text/plain": [
       "   N  y      x  f\n",
       "0  8  1   9.76  C\n",
       "1  8  6  10.48  C\n",
       "2  8  5  10.83  C\n",
       "3  8  6  10.94  C\n",
       "4  8  1   9.37  C"
      ],
      "text/html": [
       "<div>\n",
       "<style scoped>\n",
       "    .dataframe tbody tr th:only-of-type {\n",
       "        vertical-align: middle;\n",
       "    }\n",
       "\n",
       "    .dataframe tbody tr th {\n",
       "        vertical-align: top;\n",
       "    }\n",
       "\n",
       "    .dataframe thead th {\n",
       "        text-align: right;\n",
       "    }\n",
       "</style>\n",
       "<table border=\"1\" class=\"dataframe\">\n",
       "  <thead>\n",
       "    <tr style=\"text-align: right;\">\n",
       "      <th></th>\n",
       "      <th>N</th>\n",
       "      <th>y</th>\n",
       "      <th>x</th>\n",
       "      <th>f</th>\n",
       "    </tr>\n",
       "  </thead>\n",
       "  <tbody>\n",
       "    <tr>\n",
       "      <th>0</th>\n",
       "      <td>8</td>\n",
       "      <td>1</td>\n",
       "      <td>9.76</td>\n",
       "      <td>C</td>\n",
       "    </tr>\n",
       "    <tr>\n",
       "      <th>1</th>\n",
       "      <td>8</td>\n",
       "      <td>6</td>\n",
       "      <td>10.48</td>\n",
       "      <td>C</td>\n",
       "    </tr>\n",
       "    <tr>\n",
       "      <th>2</th>\n",
       "      <td>8</td>\n",
       "      <td>5</td>\n",
       "      <td>10.83</td>\n",
       "      <td>C</td>\n",
       "    </tr>\n",
       "    <tr>\n",
       "      <th>3</th>\n",
       "      <td>8</td>\n",
       "      <td>6</td>\n",
       "      <td>10.94</td>\n",
       "      <td>C</td>\n",
       "    </tr>\n",
       "    <tr>\n",
       "      <th>4</th>\n",
       "      <td>8</td>\n",
       "      <td>1</td>\n",
       "      <td>9.37</td>\n",
       "      <td>C</td>\n",
       "    </tr>\n",
       "  </tbody>\n",
       "</table>\n",
       "</div>"
      ]
     },
     "metadata": {},
     "execution_count": 29
    }
   ],
   "metadata": {}
  },
  {
   "cell_type": "code",
   "execution_count": 30,
   "source": [
    "data.shape"
   ],
   "outputs": [
    {
     "output_type": "execute_result",
     "data": {
      "text/plain": [
       "(100, 4)"
      ]
     },
     "metadata": {},
     "execution_count": 30
    }
   ],
   "metadata": {}
  },
  {
   "cell_type": "code",
   "execution_count": 31,
   "source": [
    "import statsmodels.api as sm\n",
    "import statsmodels.formula.api as smf\n",
    "# y+I(N-y)は、生存種子y,非生存種子数N-yの二項分布であることを指定してる\n",
    "model = smf.glm('y+I(N-y)~x+f',data=data,family=sm.families.Binomial())\n",
    "result = model.fit()\n",
    "result.summary()"
   ],
   "outputs": [
    {
     "output_type": "execute_result",
     "data": {
      "text/plain": [
       "<class 'statsmodels.iolib.summary.Summary'>\n",
       "\"\"\"\n",
       "                 Generalized Linear Model Regression Results                  \n",
       "==============================================================================\n",
       "Dep. Variable:      ['y', 'I(N - y)']   No. Observations:                  100\n",
       "Model:                            GLM   Df Residuals:                       97\n",
       "Model Family:                Binomial   Df Model:                            2\n",
       "Link Function:                  logit   Scale:                          1.0000\n",
       "Method:                          IRLS   Log-Likelihood:                -133.11\n",
       "Date:                Sun, 08 Aug 2021   Deviance:                       123.03\n",
       "Time:                        11:53:18   Pearson chi2:                     109.\n",
       "No. Iterations:                     6                                         \n",
       "Covariance Type:            nonrobust                                         \n",
       "==============================================================================\n",
       "                 coef    std err          z      P>|z|      [0.025      0.975]\n",
       "------------------------------------------------------------------------------\n",
       "Intercept    -19.5361      1.414    -13.818      0.000     -22.307     -16.765\n",
       "f[T.T]         2.0215      0.231      8.740      0.000       1.568       2.475\n",
       "x              1.9524      0.139     14.059      0.000       1.680       2.225\n",
       "==============================================================================\n",
       "\"\"\""
      ],
      "text/html": [
       "<table class=\"simpletable\">\n",
       "<caption>Generalized Linear Model Regression Results</caption>\n",
       "<tr>\n",
       "  <th>Dep. Variable:</th>   <td>['y', 'I(N - y)']</td> <th>  No. Observations:  </th>  <td>   100</td> \n",
       "</tr>\n",
       "<tr>\n",
       "  <th>Model:</th>                  <td>GLM</td>        <th>  Df Residuals:      </th>  <td>    97</td> \n",
       "</tr>\n",
       "<tr>\n",
       "  <th>Model Family:</th>        <td>Binomial</td>      <th>  Df Model:          </th>  <td>     2</td> \n",
       "</tr>\n",
       "<tr>\n",
       "  <th>Link Function:</th>         <td>logit</td>       <th>  Scale:             </th> <td>  1.0000</td>\n",
       "</tr>\n",
       "<tr>\n",
       "  <th>Method:</th>                <td>IRLS</td>        <th>  Log-Likelihood:    </th> <td> -133.11</td>\n",
       "</tr>\n",
       "<tr>\n",
       "  <th>Date:</th>            <td>Sun, 08 Aug 2021</td>  <th>  Deviance:          </th> <td>  123.03</td>\n",
       "</tr>\n",
       "<tr>\n",
       "  <th>Time:</th>                <td>11:53:18</td>      <th>  Pearson chi2:      </th>  <td>  109.</td> \n",
       "</tr>\n",
       "<tr>\n",
       "  <th>No. Iterations:</th>          <td>6</td>         <th>                     </th>     <td> </td>   \n",
       "</tr>\n",
       "<tr>\n",
       "  <th>Covariance Type:</th>     <td>nonrobust</td>     <th>                     </th>     <td> </td>   \n",
       "</tr>\n",
       "</table>\n",
       "<table class=\"simpletable\">\n",
       "<tr>\n",
       "      <td></td>         <th>coef</th>     <th>std err</th>      <th>z</th>      <th>P>|z|</th>  <th>[0.025</th>    <th>0.975]</th>  \n",
       "</tr>\n",
       "<tr>\n",
       "  <th>Intercept</th> <td>  -19.5361</td> <td>    1.414</td> <td>  -13.818</td> <td> 0.000</td> <td>  -22.307</td> <td>  -16.765</td>\n",
       "</tr>\n",
       "<tr>\n",
       "  <th>f[T.T]</th>    <td>    2.0215</td> <td>    0.231</td> <td>    8.740</td> <td> 0.000</td> <td>    1.568</td> <td>    2.475</td>\n",
       "</tr>\n",
       "<tr>\n",
       "  <th>x</th>         <td>    1.9524</td> <td>    0.139</td> <td>   14.059</td> <td> 0.000</td> <td>    1.680</td> <td>    2.225</td>\n",
       "</tr>\n",
       "</table>"
      ]
     },
     "metadata": {},
     "execution_count": 31
    }
   ],
   "metadata": {}
  },
  {
   "cell_type": "code",
   "execution_count": 32,
   "source": [
    "df_test_c = pd.DataFrame()\n",
    "df_test_c[\"x\"] = np.linspace(7,12,100)\n",
    "df_test_c[\"f\"] = \"C\"\n",
    "predict_c = result.predict(df_test_c)*8\n",
    "\n",
    "df_test_t = pd.DataFrame()\n",
    "df_test_t[\"x\"] = np.linspace(7,12,100)\n",
    "df_test_t[\"f\"] = \"T\"\n",
    "predict_t = result.predict(df_test_t)*8\n",
    "\n",
    "plt.plot(df_test_c.x,predict_c,label=\"C\")\n",
    "plt.plot(df_test_t.x,predict_t,label=\"T\")\n",
    "plt.scatter(data.x,data.y,c=data.f.cat.codes,label=\"data\")\n",
    "plt.legend()"
   ],
   "outputs": [
    {
     "output_type": "execute_result",
     "data": {
      "text/plain": [
       "<matplotlib.legend.Legend at 0x240de1c7eb0>"
      ]
     },
     "metadata": {},
     "execution_count": 32
    },
    {
     "output_type": "display_data",
     "data": {
      "text/plain": [
       "<Figure size 432x288 with 1 Axes>"
      ],
      "image/png": "[encoded data removed]"
     },
     "metadata": {
      "needs_background": "light"
     }
    }
   ],
   "metadata": {}
  },
  {
   "cell_type": "code",
   "execution_count": 33,
   "source": [
    "# predictを用いずに\n",
    "b1 = result.params[0]\n",
    "b2 = result.params[2]\n",
    "b3 = result.params[1]\n",
    "\n",
    "x = np.linspace(7,12,100)\n",
    "z_c = x*b2 + b1\n",
    "z_t = x*b2 + b1 + b3\n",
    "y_c = sigmoid(z_c)\n",
    "y_t = sigmoid(z_t)\n",
    "\n",
    "plt.subplot(2,1,1)\n",
    "plt.plot(x,y_c)\n",
    "plt.title('C')\n",
    "\n",
    "plt.subplot(2,1,2)\n",
    "plt.plot(x,y_t)\n",
    "plt.title('T')"
   ],
   "outputs": [
    {
     "output_type": "execute_result",
     "data": {
      "text/plain": [
       "Text(0.5, 1.0, 'T')"
      ]
     },
     "metadata": {},
     "execution_count": 33
    },
    {
     "output_type": "display_data",
     "data": {
      "text/plain": [
       "<Figure size 432x288 with 2 Axes>"
      ],
      "image/png": "[encoded data removed]"
     },
     "metadata": {
      "needs_background": "light"
     }
    }
   ],
   "metadata": {}
  },
  {
   "cell_type": "markdown",
   "source": [
    "## ロジットリンク関数の意味・解釈"
   ],
   "metadata": {}
  },
  {
   "cell_type": "markdown",
   "source": [
    "ロジット関数は以下の様に式変形される\n",
    "$$\n",
    "\\begin{align}\n",
    "logit(q_i) = z_i &= log\\frac{q_i}{1-q_i}\\\\\n",
    "\\frac{q_i}{1-q_i} = e^{線形予測子} &= e^{z_i}\\\\\n",
    "&=e^{β_1+β_2x_i+β_3f_i}\n",
    "&=e^{β_1}e^{β_2x_i}e^{β_3f_i}\n",
    "\\end{align}\n",
    "$$\n",
    "ここで、$\\frac{q_i}{1-q_i}$をオッズという。  \n",
    "つまり、オッズは定数項を無視すると、以下の比例関係が成立する\n",
    "$$\n",
    "\\frac{q_i}{1-q_i} \\propto e^{β_2x_i}e^{β_3f_i}\n",
    "$$\n",
    "つまり、オッズは$x_i$の値が1単位増加すると、$e^{β_2}$倍大きくなる。  \n",
    "また、オッズの対数をとったものが、\n",
    "$$\n",
    "log\\frac{q_i}{1-q_i} = β_1+β_2x_i+β_3f_i = 線形予測子z_i\n",
    "$$\n",
    "オッズ比は近似的にリスクと同値になる。"
   ],
   "metadata": {}
  },
  {
   "cell_type": "markdown",
   "source": [
    "## ロジスティック回帰のモデル選択"
   ],
   "metadata": {}
  },
  {
   "cell_type": "markdown",
   "source": [
    "- 生存種子数を最もよく予測する統計モデル化を知りたい\n",
    "- AICによるモデル選択 → 最もよく予測できるモデルを選択する。\n",
    "- $AIC = -2(logL^{*} - k)$ → $logL^{*}は最大対数尤度であり、kはパラメータ数\n",
    "- kはパラメータによる最大対数尤度の改善に近似できるため、AICはパラメータ数の影響を除いた最大対数尤度といえる。"
   ],
   "metadata": {}
  },
  {
   "cell_type": "code",
   "execution_count": 38,
   "source": [
    "# 定数項のみ、fのみ、xのみ、xとfのすべての場合の統計モデルについて、\n",
    "# GLMによる二項分布でのモデル構築、結果を格納\n",
    "results = []\n",
    "AIC_results = []\n",
    "formula_list = ['y+I(N-y)~1','y+I(N-y)~f','y+I(N-y)~x','y+I(N-y)~x+f']\n",
    "for formula in formula_list:\n",
    "  model = smf.glm(formula,data=data,family=sm.families.Binomial())\n",
    "  result = model.fit()\n",
    "  results.append(result)\n",
    "  AIC_results.append(-2*(result.llf - (result.df_model+1)))"
   ],
   "outputs": [],
   "metadata": {}
  },
  {
   "cell_type": "code",
   "execution_count": 45,
   "source": [
    "# AICの結果を表示\n",
    "for i in range(len(formula_list)):\n",
    "  print(formula_list[i],AIC_results[i])"
   ],
   "outputs": [
    {
     "output_type": "stream",
     "name": "stdout",
     "text": [
      "y+I(N-y)~1 644.4093416623778\n",
      "y+I(N-y)~f 637.7597534566678\n",
      "y+I(N-y)~x 364.34544328371584\n",
      "y+I(N-y)~x+f 272.2111292852234\n"
     ]
    }
   ],
   "metadata": {}
  },
  {
   "cell_type": "markdown",
   "source": [
    "- AICの観点ではxとfのモデルが一番よさそう"
   ],
   "metadata": {}
  },
  {
   "cell_type": "markdown",
   "source": [
    "## 交互作用項の入った線形予測子"
   ],
   "metadata": {}
  },
  {
   "cell_type": "markdown",
   "source": [
    "例えば、対サイズ$x_i$と施肥処理の有無$f_i$の交互作用を入れ込んだモデルは以下\n",
    "$$\n",
    "logit(q_i) = z_i = β_1+β_2x_i+β_3f_i+β_4x_if_i\n",
    "$$\n",
    "- 以下で推定してみる"
   ],
   "metadata": {}
  },
  {
   "cell_type": "code",
   "execution_count": 47,
   "source": [
    "model = smf.glm('y+I(N-y)~x*f',data=data,family=sm.families.Binomial())\n",
    "result = model.fit()\n",
    "result.summary()"
   ],
   "outputs": [
    {
     "output_type": "execute_result",
     "data": {
      "text/plain": [
       "<class 'statsmodels.iolib.summary.Summary'>\n",
       "\"\"\"\n",
       "                 Generalized Linear Model Regression Results                  \n",
       "==============================================================================\n",
       "Dep. Variable:      ['y', 'I(N - y)']   No. Observations:                  100\n",
       "Model:                            GLM   Df Residuals:                       96\n",
       "Model Family:                Binomial   Df Model:                            3\n",
       "Link Function:                  logit   Scale:                          1.0000\n",
       "Method:                          IRLS   Log-Likelihood:                -132.81\n",
       "Date:                Sun, 08 Aug 2021   Deviance:                       122.43\n",
       "Time:                        12:24:08   Pearson chi2:                     109.\n",
       "No. Iterations:                     6                                         \n",
       "Covariance Type:            nonrobust                                         \n",
       "==============================================================================\n",
       "                 coef    std err          z      P>|z|      [0.025      0.975]\n",
       "------------------------------------------------------------------------------\n",
       "Intercept    -18.5233      1.886     -9.821      0.000     -22.220     -14.827\n",
       "f[T.T]        -0.0638      2.704     -0.024      0.981      -5.363       5.235\n",
       "x              1.8525      0.186      9.983      0.000       1.489       2.216\n",
       "x:f[T.T]       0.2163      0.280      0.772      0.440      -0.333       0.765\n",
       "==============================================================================\n",
       "\"\"\""
      ],
      "text/html": [
       "<table class=\"simpletable\">\n",
       "<caption>Generalized Linear Model Regression Results</caption>\n",
       "<tr>\n",
       "  <th>Dep. Variable:</th>   <td>['y', 'I(N - y)']</td> <th>  No. Observations:  </th>  <td>   100</td> \n",
       "</tr>\n",
       "<tr>\n",
       "  <th>Model:</th>                  <td>GLM</td>        <th>  Df Residuals:      </th>  <td>    96</td> \n",
       "</tr>\n",
       "<tr>\n",
       "  <th>Model Family:</th>        <td>Binomial</td>      <th>  Df Model:          </th>  <td>     3</td> \n",
       "</tr>\n",
       "<tr>\n",
       "  <th>Link Function:</th>         <td>logit</td>       <th>  Scale:             </th> <td>  1.0000</td>\n",
       "</tr>\n",
       "<tr>\n",
       "  <th>Method:</th>                <td>IRLS</td>        <th>  Log-Likelihood:    </th> <td> -132.81</td>\n",
       "</tr>\n",
       "<tr>\n",
       "  <th>Date:</th>            <td>Sun, 08 Aug 2021</td>  <th>  Deviance:          </th> <td>  122.43</td>\n",
       "</tr>\n",
       "<tr>\n",
       "  <th>Time:</th>                <td>12:24:08</td>      <th>  Pearson chi2:      </th>  <td>  109.</td> \n",
       "</tr>\n",
       "<tr>\n",
       "  <th>No. Iterations:</th>          <td>6</td>         <th>                     </th>     <td> </td>   \n",
       "</tr>\n",
       "<tr>\n",
       "  <th>Covariance Type:</th>     <td>nonrobust</td>     <th>                     </th>     <td> </td>   \n",
       "</tr>\n",
       "</table>\n",
       "<table class=\"simpletable\">\n",
       "<tr>\n",
       "      <td></td>         <th>coef</th>     <th>std err</th>      <th>z</th>      <th>P>|z|</th>  <th>[0.025</th>    <th>0.975]</th>  \n",
       "</tr>\n",
       "<tr>\n",
       "  <th>Intercept</th> <td>  -18.5233</td> <td>    1.886</td> <td>   -9.821</td> <td> 0.000</td> <td>  -22.220</td> <td>  -14.827</td>\n",
       "</tr>\n",
       "<tr>\n",
       "  <th>f[T.T]</th>    <td>   -0.0638</td> <td>    2.704</td> <td>   -0.024</td> <td> 0.981</td> <td>   -5.363</td> <td>    5.235</td>\n",
       "</tr>\n",
       "<tr>\n",
       "  <th>x</th>         <td>    1.8525</td> <td>    0.186</td> <td>    9.983</td> <td> 0.000</td> <td>    1.489</td> <td>    2.216</td>\n",
       "</tr>\n",
       "<tr>\n",
       "  <th>x:f[T.T]</th>  <td>    0.2163</td> <td>    0.280</td> <td>    0.772</td> <td> 0.440</td> <td>   -0.333</td> <td>    0.765</td>\n",
       "</tr>\n",
       "</table>"
      ]
     },
     "metadata": {},
     "execution_count": 47
    }
   ],
   "metadata": {}
  },
  {
   "cell_type": "markdown",
   "source": [
    "- ここでx*fの係数はx:f[T.T]で示されている"
   ],
   "metadata": {}
  },
  {
   "cell_type": "code",
   "execution_count": 49,
   "source": [
    "aic = -2*(result.llf - (result.df_model + 1))\n",
    "aic"
   ],
   "outputs": [
    {
     "output_type": "execute_result",
     "data": {
      "text/plain": [
       "273.61059672597395"
      ]
     },
     "metadata": {},
     "execution_count": 49
    }
   ],
   "metadata": {}
  },
  {
   "cell_type": "markdown",
   "source": [
    "- 今回の場合、交互作用を追加してもAICは改善しなかった。\n",
    "- 交互作用を入れるとサマリーで見ても判断しにくいから、グラフを書いて比較するとよい\n",
    "- 交互作用をむやみに入れると解釈が難しくなるからむやみやたらに入れない\n",
    "- むやみに入れると変数の増加とともに組み合わせ論爆発的に増える。\n",
    "- 現実データで、説明変数で説明できない「個体差」「場所差」によるばらつきを考慮していないGLMに当てはめたとき、交互作用を含んだ過度に複雑なモデルが選択される傾向がある。"
   ],
   "metadata": {}
  },
  {
   "cell_type": "markdown",
   "source": [],
   "metadata": {}
  }
 ],
 "metadata": {
  "language_info": {
   "name": "python",
   "version": "3.8.5",
   "mimetype": "text/x-python",
   "codemirror_mode": {
    "name": "ipython",
    "version": 3
   },
   "pygments_lexer": "ipython3",
   "nbconvert_exporter": "python",
   "file_extension": ".py"
  },
  "kernelspec": {
   "name": "python3",
   "display_name": "Python 3.8.5 64-bit ('base': conda)"
  },
  "interpreter": {
   "hash": "eef77aded9424b2b5ad85ce5bd28a6ef054e1f7b34acdcfb361050739dff75a2"
  }
 },
 "nbformat": 4,
 "nbformat_minor": 4
}